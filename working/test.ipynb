{
 "cells": [
  {
   "cell_type": "markdown",
   "metadata": {},
   "source": [
    "# Install Ruby Kernel\n",
    "Install the Ruby kernel using the appropriate commands."
   ]
  },
  {
   "cell_type": "code",
   "execution_count": null,
   "metadata": {},
   "outputs": [],
   "source": [
    "# Install the Ruby kernel using the appropriate commands\n",
    "!gem install iruby\n",
    "!iruby register --force"
   ]
  },
  {
   "cell_type": "markdown",
   "metadata": {},
   "source": [
    "# Verify Kernel Installation\n",
    "Verify that the Ruby kernel is installed and available in Jupyter."
   ]
  },
  {
   "cell_type": "code",
   "execution_count": 2,
   "metadata": {},
   "outputs": [
    {
     "name": "stdout",
     "output_type": "stream",
     "text": [
      "hola\n",
      "\n"
     ]
    }
   ],
   "source": [
    "# Verify Kernel Installation\n",
    "import subprocess\n",
    "\n",
    "# List available Jupyter kernels\n",
    "kernels = subprocess.run([\"jupyter\", \"kernelspec\", \"list\"], capture_output=True, text=True)\n",
    "\n",
    "print(\"hola\")\n",
    "\n",
    "# Print the output to verify if Ruby kernel is installed\n",
    "print(kernels.stdout)"
   ]
  },
  {
   "cell_type": "markdown",
   "metadata": {},
   "source": [
    "# Basic Ruby Commands\n",
    "Run basic Ruby commands to ensure the kernel is functioning correctly."
   ]
  },
  {
   "cell_type": "code",
   "execution_count": 1,
   "metadata": {},
   "outputs": [
    {
     "name": "stdout",
     "output_type": "stream",
     "text": [
      "Hello, World!\n",
      "2 + 2 = 4\n",
      "Hello, Jupyter!\n"
     ]
    }
   ],
   "source": [
    "# Basic Ruby Commands\n",
    "\n",
    "# Print \"Hello, World!\" to ensure the kernel is working\n",
    "puts \"Hello, World!\"\n",
    "\n",
    "# Perform a simple arithmetic operation\n",
    "result = 2 + 2\n",
    "puts \"2 + 2 = #{result}\"\n",
    "\n",
    "# Define and use a simple function\n",
    "def greet(name)\n",
    "  \"Hello, #{name}!\"\n",
    "end\n",
    "\n",
    "puts greet(\"Jupyter\")"
   ]
  },
  {
   "cell_type": "markdown",
   "metadata": {},
   "source": [
    "# Define and Use Methods\n",
    "Define and use Ruby methods to test the kernel's ability to handle functions."
   ]
  },
  {
   "cell_type": "code",
   "execution_count": 6,
   "metadata": {},
   "outputs": [
    {
     "name": "stdout",
     "output_type": "stream",
     "text": [
      "Factorial of 5 is 120\n",
      "Is 7 a prime number? true\n",
      "Is 10 a prime number? false\n"
     ]
    }
   ],
   "source": [
    "# Define a method to calculate the factorial of a number\n",
    "def factorial(n)\n",
    "  return 1 if n == 0\n",
    "  n * factorial(n - 1)\n",
    "end\n",
    "\n",
    "# Use the factorial method\n",
    "puts \"Factorial of 5 is #{factorial(5)}\"\n",
    "\n",
    "# Define a method to check if a number is prime\n",
    "def prime?(n)\n",
    "  return false if n <= 1\n",
    "  (2..Math.sqrt(n)).each do |i|\n",
    "    return false if n % i == 0\n",
    "  end\n",
    "  true\n",
    "end\n",
    "\n",
    "# Use the prime? method\n",
    "puts \"Is 7 a prime number? #{prime?(7)}\"\n",
    "puts \"Is 10 a prime number? #{prime?(10)}\""
   ]
  },
  {
   "cell_type": "markdown",
   "metadata": {},
   "source": [
    "# Working with Arrays\n",
    "Create and manipulate arrays in Ruby to test array handling."
   ]
  },
  {
   "cell_type": "code",
   "execution_count": 3,
   "metadata": {},
   "outputs": [
    {
     "name": "stdout",
     "output_type": "stream",
     "text": [
      "Original array: [1, 2, 3, 4, 5]\n",
      "Array after adding an element: [1, 2, 3, 4, 5, 6]\n",
      "Array after removing an element: [1, 2, 4, 5, 6]\n",
      "First element: 1\n",
      "Last element: 6\n",
      "Element: 1\n",
      "Element: 2\n",
      "Element: 4\n",
      "Element: 5\n",
      "Element: 6\n",
      "Squared numbers: [1, 4, 16, 25, 36]\n",
      "Filtered numbers (greater than 3): [4, 5, 6]\n",
      "Sum of all elements: 18\n"
     ]
    }
   ],
   "source": [
    "# Working with Arrays\n",
    "\n",
    "# Create an array of integers\n",
    "numbers = [1, 2, 3, 4, 5]\n",
    "puts \"Original array: #{numbers}\"\n",
    "\n",
    "# Add an element to the array\n",
    "numbers << 6\n",
    "puts \"Array after adding an element: #{numbers}\"\n",
    "\n",
    "# Remove an element from the array\n",
    "numbers.delete(3)\n",
    "puts \"Array after removing an element: #{numbers}\"\n",
    "\n",
    "# Access elements by index\n",
    "puts \"First element: #{numbers[0]}\"\n",
    "puts \"Last element: #{numbers[-1]}\"\n",
    "\n",
    "# Iterate over the array and print each element\n",
    "numbers.each do |num|\n",
    "  puts \"Element: #{num}\"\n",
    "end\n",
    "\n",
    "# Map: Create a new array with each element squared\n",
    "squared_numbers = numbers.map { |num| num ** 2 }\n",
    "puts \"Squared numbers: #{squared_numbers}\"\n",
    "\n",
    "# Select: Create a new array with elements greater than 3\n",
    "filtered_numbers = numbers.select { |num| num > 3 }\n",
    "puts \"Filtered numbers (greater than 3): #{filtered_numbers}\"\n",
    "\n",
    "# Reduce: Sum all elements in the array\n",
    "sum = numbers.reduce(0) { |acc, num| acc + num }\n",
    "puts \"Sum of all elements: #{sum}\""
   ]
  },
  {
   "cell_type": "markdown",
   "metadata": {},
   "source": [
    "# Control Structures\n",
    "Use control structures like loops and conditionals to test the kernel's execution flow."
   ]
  },
  {
   "cell_type": "code",
   "execution_count": 4,
   "metadata": {},
   "outputs": [
    {
     "name": "stdout",
     "output_type": "stream",
     "text": [
      "10 is greater than 5\n",
      "3 is not greater than 5\n",
      "Good job!\n",
      "i is 0\n",
      "i is 1\n",
      "i is 2\n",
      "i is 3\n",
      "i is 4\n",
      "i is 0\n",
      "i is 1\n",
      "i is 2\n",
      "i is 3\n",
      "i is 4\n",
      "i is 5\n",
      "Value of local variable is 0\n",
      "Value of local variable is 1\n",
      "Value of local variable is 2\n",
      "Value of local variable is 3\n",
      "Value of local variable is 4\n",
      "Value of local variable is 5\n",
      "Value of local variable is 0\n",
      "Value of local variable is 1\n",
      "Value of local variable is 2\n",
      "Value of local variable is 3\n",
      "Value of local variable is 4\n",
      "Value of local variable is 5\n"
     ]
    },
    {
     "data": {
      "text/plain": [
       "0..5"
      ]
     },
     "execution_count": 4,
     "metadata": {},
     "output_type": "execute_result"
    }
   ],
   "source": [
    "# Control Structures\n",
    "\n",
    "# If-Else Statement\n",
    "number = 10\n",
    "if number > 5\n",
    "  puts \"#{number} is greater than 5\"\n",
    "else\n",
    "  puts \"#{number} is not greater than 5\"\n",
    "end\n",
    "\n",
    "# Unless Statement\n",
    "number = 3\n",
    "unless number > 5\n",
    "  puts \"#{number} is not greater than 5\"\n",
    "else\n",
    "  puts \"#{number} is greater than 5\"\n",
    "end\n",
    "\n",
    "# Case Statement\n",
    "grade = 'B'\n",
    "case grade\n",
    "when 'A'\n",
    "  puts \"Excellent!\"\n",
    "when 'B'\n",
    "  puts \"Good job!\"\n",
    "when 'C'\n",
    "  puts \"Well done\"\n",
    "when 'D'\n",
    "  puts \"You passed\"\n",
    "else\n",
    "  puts \"Better try again\"\n",
    "end\n",
    "\n",
    "# While Loop\n",
    "i = 0\n",
    "while i < 5\n",
    "  puts \"i is #{i}\"\n",
    "  i += 1\n",
    "end\n",
    "\n",
    "# Until Loop\n",
    "i = 0\n",
    "until i > 5\n",
    "  puts \"i is #{i}\"\n",
    "  i += 1\n",
    "end\n",
    "\n",
    "# For Loop\n",
    "for i in 0..5\n",
    "  puts \"Value of local variable is #{i}\"\n",
    "end\n",
    "\n",
    "# Each Loop\n",
    "(0..5).each do |i|\n",
    "  puts \"Value of local variable is #{i}\"\n",
    "end"
   ]
  },
  {
   "cell_type": "code",
   "execution_count": null,
   "metadata": {},
   "outputs": [],
   "source": []
  },
  {
   "cell_type": "markdown",
   "metadata": {},
   "source": []
  },
  {
   "cell_type": "code",
   "execution_count": 5,
   "metadata": {},
   "outputs": [
    {
     "name": "stdout",
     "output_type": "stream",
     "text": [
      "hola\n"
     ]
    }
   ],
   "source": [
    "puts \"hola\""
   ]
  }
 ],
 "metadata": {
  "kernelspec": {
   "display_name": "Ruby 3 (iruby kernel)",
   "language": "ruby",
   "name": "ruby3"
  },
  "language_info": {
   "file_extension": ".rb",
   "mimetype": "application/x-ruby",
   "name": "ruby",
   "version": "3.2.3"
  }
 },
 "nbformat": 4,
 "nbformat_minor": 2
}
